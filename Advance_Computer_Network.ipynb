{
 "cells": [
  {
   "cell_type": "markdown",
   "id": "cfbc35e1",
   "metadata": {},
   "source": [
    "# Answer:-1"
   ]
  },
  {
   "cell_type": "markdown",
   "id": "fa9be505",
   "metadata": {},
   "source": [
    "### Data Communication:-"
   ]
  },
  {
   "cell_type": "markdown",
   "id": "06d3dae6",
   "metadata": {},
   "source": [
    "Data Communication is defined as exchange of data between two devices via some form of transmission media such as a cable, wire or it can be air or vacuum also. For occurrence of data communication, communicating devices must be a part of communication system made up of a combination of hardware or software devices and programs"
   ]
  },
  {
   "cell_type": "markdown",
   "id": "74509d3b",
   "metadata": {},
   "source": [
    "In other words, communication is a process or act in which we can send or receive data. A network of computers is defined as an interconnected collection of autonomous computers. Autonomous means no computer can start, stop or control another computer."
   ]
  },
  {
   "cell_type": "markdown",
   "id": "b6d5f66b",
   "metadata": {},
   "source": [
    "### Component of Data Communication:-"
   ]
  },
  {
   "cell_type": "markdown",
   "id": "14be1738",
   "metadata": {},
   "source": [
    "**There are mainly five components of a data communication system:There are mainly five components of a data communication system:**"
   ]
  },
  {
   "cell_type": "markdown",
   "id": "acb50d67",
   "metadata": {},
   "source": [
    "1. Message\n",
    "2. Sender\n",
    "3. Receiver\n",
    "4. Transmission Medium\n",
    "5. Set of rules (Protocol"
   ]
  },
  {
   "cell_type": "markdown",
   "id": "bb188fd4",
   "metadata": {},
   "source": [
    "All above mentioned elements are described below:"
   ]
  },
  {
   "cell_type": "markdown",
   "id": "32f12959",
   "metadata": {},
   "source": [
    "**1. Message :**\n",
    "This is most useful asset of a data communication system. The message simply refers to data or piece of information which is to be communicated. A message could be in any form, it may be in form of a text file, an audio file, a video file, etc."
   ]
  },
  {
   "cell_type": "markdown",
   "id": "094fce3b",
   "metadata": {},
   "source": [
    "**2. Sender :**\n",
    "To transfer message from source to destination, someone must be there who will play role of a source. Sender plays part of a source in data communication system. It is simple a device that sends data message. The device could be in form of a computer, mobile, telephone, laptop, video camera, or a workstation, etc."
   ]
  },
  {
   "cell_type": "markdown",
   "id": "28f21707",
   "metadata": {},
   "source": [
    "**3. Receiver :**\n",
    "It is destination where finally message sent by source has arrived. It is a device that receives message. Same as sender, receiver can also be in form of a computer, telephone mobile, workstation, etc."
   ]
  },
  {
   "cell_type": "markdown",
   "id": "5ab20209",
   "metadata": {},
   "source": [
    "**4. Transmission Medium :**\n",
    "In entire process of data communication, there must be something which could act as a bridge between sender and receiver, Transmission medium plays that part. It is physical path by which data or message travels from sender to receiver. Transmission medium could be guided (with wires) or unguided (without wires), for example, twisted pair cable, fiber optic cable, radio waves, microwaves, etc."
   ]
  },
  {
   "cell_type": "markdown",
   "id": "6def0092",
   "metadata": {},
   "source": [
    "**5. Set of rules (Protocol) :**\n",
    "To govern data communications, various sets of rules had been already designed by the designers of the communication systems, which represent a kind of agreement between communicating devices. These are defined as protocol. In simple terms, the protocol is a set of rules that govern data communication. If two different devices are connected but there is no protocol among them, there would not be any kind of communication between those two devices. Thus the protocol is necessary for data communication to take place."
   ]
  },
  {
   "cell_type": "markdown",
   "id": "66652c84",
   "metadata": {},
   "source": [
    "**Therefore, there are some set of rules (protocols) that is followed by every computer connected to the internet and they are:**\n",
    "1. **TCP(Transmission Control Protocol):** It is responsible for dividing messages into packets on the source computer and reassembling the received packet at the destination or recipient computer. It also makes sure that the packets have the information about the source of the message data, the destination of the message data, the sequence in which the message data should be re-assembled, and checks if the message has been sent correctly to the specific destination.\n",
    "2. **IP(Internet Protocol):** Do You ever wonder how does computer determine which packet belongs to which device. What happens if the message you sent to your friend is received by your father? Scary Right. Well! IP is responsible for handling the address of the destination computer so that each packet is sent to its proper destination. "
   ]
  },
  {
   "cell_type": "markdown",
   "id": "d0a53046",
   "metadata": {},
   "source": [
    "### Duplex Communication:-"
   ]
  },
  {
   "cell_type": "markdown",
   "id": "a12c777b",
   "metadata": {},
   "source": [
    "Duplex is a telecommunications term for communication channels that can be between two devices simplex, half-duplex, or full-duplex."
   ]
  },
  {
   "cell_type": "markdown",
   "id": "79258da9",
   "metadata": {},
   "source": [
    "**Half-Duplex:** In this mode of transmission, both the sender and receiver can transmit and receive the waves but only one station can do at a time, or you can say that they both cannot do this at the same time. It’s also means that when the sender is sending the signals, then the receiver can only receive the signals. The same scenario happens for the other side also. We use this communication or transmission mode when we want a one-way communication.\n",
    "Ex:- walkie-talkie"
   ]
  },
  {
   "cell_type": "markdown",
   "id": "148d7628",
   "metadata": {},
   "source": [
    "**Full-Duplex:** In this mode of transmission, both the sender and the receiver can communicate in both directions at the same time. We make use of full-duplex communication when we want two-way communication.\n",
    "\n",
    "Ex:- mobile phones"
   ]
  },
  {
   "cell_type": "markdown",
   "id": "037708a8",
   "metadata": {},
   "source": [
    "### Pros and Cons of Duplex Communication:-"
   ]
  },
  {
   "cell_type": "markdown",
   "id": "e56d27dc",
   "metadata": {},
   "source": [
    "### Advantages of Half-Duplex Mode\n",
    " \n",
    "1. It is easy to implement.\n",
    "\n",
    "2.  There is a need for less complicated hardware.\n",
    "\n",
    "3. There is a less congested network in this mode of transmission.\n",
    "\n",
    "4.  We can make use of only one antenna which can be used as both the receiver and the sender."
   ]
  },
  {
   "cell_type": "markdown",
   "id": "046daac8",
   "metadata": {},
   "source": [
    "### Disadvantage of half-duplex\n",
    "1.  The speed of half-duplex is less as compare to the full-duplex mode of transmission."
   ]
  },
  {
   "cell_type": "markdown",
   "id": "63399dbe",
   "metadata": {},
   "source": [
    "### Advantages of Full-Duplex Mode\n",
    "1. There is an increase in the performance of the network in this mode.\n",
    "\n",
    "2. The speed of transmitting and receiving the data is faster in this mode.\n",
    "\n",
    "3. It doubles the utilization of the bandwidth.\n",
    "\n",
    "4. Identifying the problem is easy in full-duplex transmission mode."
   ]
  },
  {
   "cell_type": "markdown",
   "id": "265b208f",
   "metadata": {},
   "source": [
    "### Disadvantages of full-duplex Mode\n",
    "1. All network equipment does not support full-duplex system.\n",
    "\n",
    "2. It is expensive when we want to upgrade our system to full-duplex.\n",
    "\n",
    "3. Sometimes it may cause instability. Due to this, it may become difficult for the administrators to diagnose the issue in the network."
   ]
  },
  {
   "cell_type": "markdown",
   "id": "c0acaef2",
   "metadata": {},
   "source": [
    "# Answer:-2"
   ]
  },
  {
   "cell_type": "markdown",
   "id": "3fd5ef33",
   "metadata": {},
   "source": [
    "### Communication Channels:-"
   ]
  },
  {
   "cell_type": "markdown",
   "id": "6215b06d",
   "metadata": {},
   "source": [
    "A communication channel refers either to a physical transmission medium such as a wire, or to a logical connection over a multiplexed medium such as a radio channel in telecommunications and computer networking. A channel is used for information transfer of, for example, a digital bit stream, from one or several senders to one or several receivers. A channel has a certain capacity for transmitting information, often measured by its bandwidth in Hz or its data rate in bits per second.\n",
    "\n",
    "Communicating an information signal across distance requires some form of pathway or medium. These pathways, called communication channels, use two types of media: Transmission line (e.g. twisted-pair, coaxial, and fiber-optic cable) and broadcast (e.g. microwave, satellite, radio, and infrared)."
   ]
  },
  {
   "cell_type": "markdown",
   "id": "23a7c664",
   "metadata": {},
   "source": [
    "Communication channels are the medium that connects two or more workstations. Workstations can be connected by either wired media or wireless media. It is also known as a transmission medium. The transmission medium or channel is a link that carries messages between two or more devices. We can group the communication media into two categories:\n",
    "\n",
    "1. Guided media transmission\n",
    "2. Unguided media transmission"
   ]
  },
  {
   "cell_type": "markdown",
   "id": "b786b9d9",
   "metadata": {},
   "source": [
    "### Types of Communication Channels:-"
   ]
  },
  {
   "cell_type": "markdown",
   "id": "051baf6a",
   "metadata": {},
   "source": [
    "There are three different types of telecommunication and computer networking channels to be aware of: simplex, half-duplex, and full-duplex."
   ]
  },
  {
   "cell_type": "markdown",
   "id": "a097dba1",
   "metadata": {},
   "source": [
    "**1.Simplex Communication:** It is one-way communication or we can say that unidirectional communication in which one device only receives and another device only sends data and devices uses their entire capacity in transmission. For example, IoT, entering data using a keyboard, listing music using a speaker, etc."
   ]
  },
  {
   "cell_type": "markdown",
   "id": "3b6af5af",
   "metadata": {},
   "source": [
    "**2. Half Duplex communication:** It is a two-way communication or we can say that it is a bidirectional communication in which both the devices can send and receive data but not at the same time. When one device is sending data then another device is only receiving and vice-versa. For example, walkie-talkie. "
   ]
  },
  {
   "cell_type": "markdown",
   "id": "6448f924",
   "metadata": {},
   "source": [
    "**3. Full-duplex communication:** It is a two-way communication or we can say that it is a bidirectional communication in which both the devices can send and receive data at the same time. For example, mobile phones, landlines, etc."
   ]
  },
  {
   "cell_type": "markdown",
   "id": "1d2fd6ff",
   "metadata": {},
   "source": [
    "### Guided Media:\n",
    "In this transmission medium, the physical link is created using wires or cables between two or more computers or devices, and then the data is transmitted using these cables in terms of signals. Guided media transmission of the following types:"
   ]
  },
  {
   "cell_type": "markdown",
   "id": "2b4f6ebe",
   "metadata": {},
   "source": [
    "**1. Twisted pair cable:** It is the most common form of wire used in communication. In a twisted-pair cable, two identical wires are wrapped together in a double helix. The twisting of the wire reduces the crosstalk. It is known as the leaking of a signal from one wire to another due to which signal can corrupt and can cause network errors. The twisting protects the wire from internal crosstalk as well as external forms of signal interference. Types of Twisted Pair Cable :"
   ]
  },
  {
   "cell_type": "markdown",
   "id": "5aeeb578",
   "metadata": {},
   "source": [
    "1. Signals are transmitted using pairs of independently insulated wires that have been physically twisted together\n",
    "2. Used by older telephone networks\n",
    "3. Network cables use an RJ-45 jack for four pairs of twisted-pair cables."
   ]
  },
  {
   "cell_type": "markdown",
   "id": "340ab2f0",
   "metadata": {},
   "source": [
    "* **Unshielded Twisted Pair (UTP):** It is used in computers and telephones widely. As the name suggests, there is no external shielding so it does not protects from external interference. It is cheaper than STP.\n",
    "* **Shielded Twisted Pair (STP):** It offers greater protection from crosstalk due to shield. Due to shielding, it protects from external interference. It is heavier and costlier as compare to UTP. "
   ]
  },
  {
   "cell_type": "markdown",
   "id": "e39a3e72",
   "metadata": {},
   "source": [
    "**2.Coaxial Cable:** It consists of a solid wire core that is surrounded by one or more foil or wire shields. The inner core of the coaxial cable carries the signal and the outer shield provides the ground. It is widely used for television signals and also used by large corporations in building security systems. Data transmission of this cable is better but expensive as compared to twisted pair."
   ]
  },
  {
   "cell_type": "markdown",
   "id": "3c9e6a12",
   "metadata": {},
   "source": [
    "1. Core of the wire is copper\n",
    "2. High frequency signals can be carried on a single cable – used for video transmission\n",
    "3. Used when twisted pair cabling is not adequate to carry the required amount of data."
   ]
  },
  {
   "cell_type": "markdown",
   "id": "8f680b38",
   "metadata": {},
   "source": [
    "**3. Optical fibers:** Optical fiber is an important technology. It transmits large amounts of data at very high speeds due to which it is widely used in internet cables. It carries data as a light that travels inside a thin glass fiber. The fiber optic cable is made up of three pieces:"
   ]
  },
  {
   "cell_type": "markdown",
   "id": "0a1b8548",
   "metadata": {},
   "source": [
    "* **Core:** Core is the piece through which light travels. It is generally created using glass or plastic.\n",
    "* **Cladding:** It is the covering of the core and reflects the light back to the core.\n",
    "* **Sheath:** It is the protective covering that protects fiber cable from the environment."
   ]
  },
  {
   "cell_type": "markdown",
   "id": "50795625",
   "metadata": {},
   "source": [
    "* Digital signals are sent as light pulses which are translated back into electrical signals\n",
    "* Composed of fine glass strands\n",
    "* The Centre core is composed of: Fine glass strand surrounded by glass cladding and protective layer\n",
    "* Glass cladding reflects light back into the core, guiding the light along the wire\n",
    "* Thousands of transmissions can be carried on a single strand"
   ]
  },
  {
   "cell_type": "markdown",
   "id": "d2892e18",
   "metadata": {},
   "source": [
    " ### Unguided Media: \n",
    "The unguided transmission media is a transmission mode in which the signals are propagated from one device to another device wirelessly. Signals can wave through the air, water, or vacuum. It is generally used to transmit signals in all directions. Unguided Media is further divided into various  parts :"
   ]
  },
  {
   "cell_type": "markdown",
   "id": "5c484860",
   "metadata": {},
   "source": [
    ".**1. Microwave:** Microwave offers communication without the use of cables. Microwave signals are just like radio and television signals. It is used in long-distance communication. Microwave transmission consists of a transmitter, receiver, and atmosphere. In microwave communication, there are parabolic antennas that are mounted on the towers to send a beam to another antenna. The higher the tower, the greater the range."
   ]
  },
  {
   "cell_type": "markdown",
   "id": "1c3072da",
   "metadata": {},
   "source": [
    "For these waves, it is important for the transmitter and receiver antenna to be aligned. This is why it is known as line-of-sight transmission. Due to this, they are suitable for shorter distances. They comprise of electromagnetic waves with frequencies ranging between 1-400 GHz. Microwaves provide bandwidth between the range of 1 to 10 Mbps. Distance covered by the signal is proportional to the height of the antenna. For travelling to longer distances, the height of the tower should be increased. These are further sub categorized as terrestrial and satellite type microwave transmission. \n",
    "\n",
    "**1 Terrestrial type microwave transmission:** In this type, high directional antennas are used for line of sight propagation paths that use frequency between 4-12 GHz. These are parabolic antennas having diameters that range from 12 inches to feet depending on their spacing. \n",
    "\n",
    "**2 Satellite type microwave transmission:** Signals are transmitted to those spaces where satellites are positioned and they retransmit the signal to appropriate locations. Since they only receive and retransmit the signal, they act as repeaters. It is a much more flexible and reliable method of communication in comparison with cables and fiber systems. \n",
    "\n"
   ]
  },
  {
   "cell_type": "markdown",
   "id": "1f4b7dbd",
   "metadata": {},
   "source": [
    "**2. Radio wave:** When communication is carried out by radio frequencies, then it is termed radio waves transmission. It offers mobility. It is consists of the transmitter and the receiver. Both use antennas to radiate and capture the radio signal."
   ]
  },
  {
   "cell_type": "markdown",
   "id": "a37ffe67",
   "metadata": {},
   "source": [
    "Radio waves are transmitted in every direction throughout free space. Since these are omnidirectional, sent waves can be received by any antenna. These waves are useful when the data is to multicasted from one sender to multiple receivers. Radio waves can cover large areas and even penetrate obstacles such as buildings and walls. The frequency of these waves ranges between 3 kHz to 1GHz. Due to its omnidirectional nature, issues such as interference might arise when another signal with the same bandwidth or frequency is sent."
   ]
  },
  {
   "cell_type": "markdown",
   "id": "7c525ec3",
   "metadata": {},
   "source": [
    " **3. Infrared:** It is short-distance communication and can pass through any object. It is generally used in TV remotes, wireless mouse, etc."
   ]
  },
  {
   "cell_type": "markdown",
   "id": "dd31d495",
   "metadata": {},
   "source": [
    "These waves are useful for only very short distance communication. Unlike radio waves, they do not have the ability to penetrate barriers. Their range varies between 300GHz – 400THz. Since they have larger bandwidth, the data rate is very high for infrared waves. These have less interference and are more secure. "
   ]
  },
  {
   "cell_type": "markdown",
   "id": "70dd9886",
   "metadata": {},
   "source": [
    "# Answer:-3"
   ]
  },
  {
   "cell_type": "markdown",
   "id": "5a5844be",
   "metadata": {},
   "source": [
    "### Layers in OSI Reference Model:-"
   ]
  },
  {
   "cell_type": "markdown",
   "id": "4beb837a",
   "metadata": {},
   "source": [
    "OSI (Open Systems Interconnection) is a reference model for how applications communicate over a network. This model focuses on providing a visual design of how each communications layer is built on top of the other, starting with the physical cabling, all the way to the application that's trying to communicate with other devices on a network."
   ]
  },
  {
   "cell_type": "markdown",
   "id": "7ffe4bc9",
   "metadata": {},
   "source": [
    "A reference model is a conceptual framework for understanding relationships. The purpose of the OSI reference model is to guide technology vendors and developers so the digital communications products and software programs they create can interoperate and to promote a clear framework that describes the functions of a networking or telecommunications system that's in use."
   ]
  },
  {
   "cell_type": "markdown",
   "id": "dc43c08e",
   "metadata": {},
   "source": [
    "**7 layers of the OSI model:-**"
   ]
  },
  {
   "cell_type": "markdown",
   "id": "420b58f9",
   "metadata": {},
   "source": [
    "What is the function of each layer of the OSI model? The seven Open Systems Interconnection layers are the following."
   ]
  },
  {
   "cell_type": "markdown",
   "id": "3ec77fd2",
   "metadata": {},
   "source": [
    "**Layer 1. The physical layer:-**"
   ]
  },
  {
   "cell_type": "markdown",
   "id": "9ec95ce5",
   "metadata": {},
   "source": [
    "The physical layer transports data using electrical, mechanical or procedural interfaces. This layer is responsible for sending computer bits from one device to another along the network. It determines how physical connections to the network are set up and how bits are represented into predictable signals as they're transmitted either electrically, optically or via radio waves."
   ]
  },
  {
   "cell_type": "markdown",
   "id": "b014c22a",
   "metadata": {},
   "source": [
    "**Functions of a Physical layer:**\n",
    "1. **Line Configuration:** It defines the way how two or more devices can be connected physically.\n",
    "2. **Data Transmission:** It defines the transmission mode whether it is simplex, half-duplex or full-duplex mode between the two devices on the network.\n",
    "3. **Topology:** It defines the way how network devices are arranged.\n",
    "4. **Signals:** It determines the type of the signal used for transmitting the information."
   ]
  },
  {
   "cell_type": "markdown",
   "id": "2a9bbcc7",
   "metadata": {},
   "source": [
    "**Layer 2. The data-link layer:-**"
   ]
  },
  {
   "cell_type": "markdown",
   "id": "2d06c7bb",
   "metadata": {},
   "source": [
    "* The data-link, or protocol layer, in a program handles moving data into and out of a physical link in a network. This layer handles problems that occur as a result of bit transmission errors. It ensures that the pace of the data flow doesn't overwhelm the sending and receiving devices. This layer also permits the transmission of data to Layer 3, the network layer, where it's addressed and routed.\n",
    "* The data-link layer can be further divided into two sublayers. The higher layer, which is called logical link control (LLC), is responsible for multiplexing, flow control, acknowledgement and notifying upper layers if transmit/receive (TX/RX) errors occur."
   ]
  },
  {
   "cell_type": "markdown",
   "id": "5782676a",
   "metadata": {},
   "source": [
    "**Functions of the Data-link layer**\n",
    "1. **Framing:** The data link layer translates the physical's raw bit stream into packets known as Frames. The Data link layer adds the header and trailer to the frame. The header which is added to the frame contains the hardware destination and source address.\n",
    "2. **Physical Addressing:** The Data link layer adds a header to the frame that contains a destination address. The frame is transmitted to the destination address mentioned in the header.\n",
    "3. **Flow Control:** Flow control is the main functionality of the Data-link layer. It is the technique through which the constant data rate is maintained on both the sides so that no data get corrupted. It ensures that the transmitting station such as a server with higher processing speed does not exceed the receiving station, with lower processing speed.\n",
    "4. **Error Control:** Error control is achieved by adding a calculated value CRC (Cyclic Redundancy Check) that is placed to the Data link layer's trailer which is added to the message frame before it is sent to the physical layer. If any error seems to occurr, then the receiver sends the acknowledgment for the retransmission of the corrupted frames.\n",
    "5. **Access Control:** When two or more devices are connected to the same communication channel, then the data link layer protocols are used to determine which device has control over the link at a given time."
   ]
  },
  {
   "cell_type": "markdown",
   "id": "d7ff1fcd",
   "metadata": {},
   "source": [
    "**Layer 3. The network layer:-**"
   ]
  },
  {
   "cell_type": "markdown",
   "id": "6a2ac2ea",
   "metadata": {},
   "source": [
    "The primary function of the network layer is to move data into and through other networks. Network layer protocols accomplish this by packaging data with correct network address information, selecting the appropriate network routes and forwarding the packaged data up the stack to the transport layer. From a TCP/IP perspective, this is where IP addresses are applied for routing purposes."
   ]
  },
  {
   "cell_type": "markdown",
   "id": "bf6f0364",
   "metadata": {},
   "source": [
    "**Functions of Network Layer:**\n",
    "1. **Internetworking:** An internetworking is the main responsibility of the network layer. It provides a logical connection between different devices.\n",
    "2. **Addressing:** A Network layer adds the source and destination address to the header of the frame. Addressing is used to identify the device on the internet.\n",
    "3. **Routing:** Routing is the major component of the network layer, and it determines the best optimal path out of the multiple paths from source to the destination.\n",
    "4. **Packetizing:** A Network Layer receives the packets from the upper layer and converts them into packets. This process is known as Packetizing. It is achieved by internet protocol (IP)."
   ]
  },
  {
   "cell_type": "markdown",
   "id": "955126be",
   "metadata": {},
   "source": [
    "**Layer 4. The transport layer:-**"
   ]
  },
  {
   "cell_type": "markdown",
   "id": "e16de8f6",
   "metadata": {},
   "source": [
    "The transport layer is responsible for transferring data across a network and provides error-checking mechanisms and data flow controls. It determines how much data to send, where it gets sent and at what rate. TCP within the TCP/IP suite is the best-known example of the transport layer. This is where the communications select TCP port numbers to categorize and organize data transmissions across a network."
   ]
  },
  {
   "cell_type": "markdown",
   "id": "9b52918c",
   "metadata": {},
   "source": [
    "**Functions of Transport Layer:**\n",
    "1. **Service-point addressing:** Computers run several programs simultaneously due to this reason, the transmission of data from source to the destination not only from one computer to another computer but also from one process to another process. The transport layer adds the header that contains the address known as a service-point address or port address. The responsibility of the network layer is to transmit the data from one computer to another computer and the responsibility of the transport layer is to transmit the message to the correct process.\n",
    "2. **Segmentation and reassembly:** When the transport layer receives the message from the upper layer, it divides the message into multiple segments, and each segment is assigned with a sequence number that uniquely identifies each segment. When the message has arrived at the destination, then the transport layer reassembles the message based on their sequence numbers.\n",
    "3. **Connection control:** Transport layer provides two services Connection-oriented service and connectionless service. A connectionless service treats each segment as an individual packet, and they all travel in different routes to reach the destination. A connection-oriented service makes a connection with the transport layer at the destination machine before delivering the packets. In connection-oriented service, all the packets travel in the single route.\n",
    "4. **Flow control:** The transport layer also responsible for flow control but it is performed end-to-end rather than across a single link.\n",
    "5. **Error control:** The transport layer is also responsible for Error control. Error control is performed end-to-end rather than across the single link. The sender transport layer ensures that message reach at the destination without any error."
   ]
  },
  {
   "cell_type": "markdown",
   "id": "f6a3a21d",
   "metadata": {},
   "source": [
    "**Layer 5. The session layer:-**"
   ]
  },
  {
   "cell_type": "markdown",
   "id": "23c87f7b",
   "metadata": {},
   "source": [
    "The session layer sets up, coordinates and terminates conversations between applications. Its services include authentication and reconnection after an interruption. This layer determines how long a system will wait for another application to respond. Examples of session layer protocols include X.225 and Zone Information Protocol (ZIP)."
   ]
  },
  {
   "cell_type": "markdown",
   "id": "eba88f5d",
   "metadata": {},
   "source": [
    "**Functions of Session layer:**\n",
    "1. **Dialog control:** Session layer acts as a dialog controller that creates a dialog between two processes or we can say that it allows the communication between two processes which can be either half-duplex or full-duplex.\n",
    "2. **Synchronization:** Session layer adds some checkpoints when transmitting the data in a sequence. If some error occurs in the middle of the transmission of data, then the transmission will take place again from the checkpoint. This process is known as Synchronization and recovery."
   ]
  },
  {
   "cell_type": "markdown",
   "id": "e4a6fe2a",
   "metadata": {},
   "source": [
    "**Layer 6. The presentation layer:-**"
   ]
  },
  {
   "cell_type": "markdown",
   "id": "ca39eeb4",
   "metadata": {},
   "source": [
    "The presentation layer translates or formats data for the application layer based on the semantics or syntax the application accepts. This layer also handles the encryption and decryption that the application layer requires."
   ]
  },
  {
   "cell_type": "markdown",
   "id": "21669130",
   "metadata": {},
   "source": [
    "**Functions of Presentation layer:**\n",
    "1. **Translation:** The processes in two systems exchange the information in the form of character strings, numbers and so on. Different computers use different encoding methods, the presentation layer handles the interoperability between the different encoding methods. It converts the data from sender-dependent format into a common format and changes the common format into receiver-dependent format at the receiving end.\n",
    "2. **Encryption:** Encryption is needed to maintain privacy. Encryption is a process of converting the sender-transmitted information into another form and sends the resulting message over the network.\n",
    "3. **Compression:** Data compression is a process of compressing the data, i.e., it reduces the number of bits to be transmitted. Data compression is very important in multimedia such as text, audio, video."
   ]
  },
  {
   "cell_type": "markdown",
   "id": "218e0482",
   "metadata": {},
   "source": [
    "**Layer 7. The application layer:-**"
   ]
  },
  {
   "cell_type": "markdown",
   "id": "c74f7b22",
   "metadata": {},
   "source": [
    "The application layer enables the user -- human or software -- to interact with the application or network whenever the user elects to read messages, transfer files or perform other network-related tasks. Web browsers and other internet-connected apps, such as Outlook and Skype, use Layer 7 application protocols."
   ]
  },
  {
   "cell_type": "markdown",
   "id": "92295158",
   "metadata": {},
   "source": [
    "**Functions of Application layer:**\n",
    "1. **File transfer, access, and management (FTAM):** An application layer allows a user to access the files in a remote computer, to retrieve the files from a computer and to manage the files in a remote computer.\n",
    "2. **Mail services:** An application layer provides the facility for email forwarding and storage.\n",
    "Directory services: An application provides the distributed database sources and is used to provide that global information about various objects."
   ]
  },
  {
   "cell_type": "markdown",
   "id": "558834c7",
   "metadata": {},
   "source": [
    "### Compare TCP/IP Model and OSI:-"
   ]
  },
  {
   "cell_type": "markdown",
   "id": "65ec7aa9",
   "metadata": {},
   "source": [
    "### TCP/IP MOdel:-"
   ]
  },
  {
   "cell_type": "markdown",
   "id": "7bc2e460",
   "metadata": {},
   "source": [
    "### OSI Model:-"
   ]
  },
  {
   "cell_type": "markdown",
   "id": "70c4f281",
   "metadata": {},
   "source": [
    "1. TCP/IP is Transmission Control Protocol/ Internet Protocol.\n",
    "2. TCP/IP has 4 layers.\n",
    "3. TCP/IP has less strict boundaries.\n",
    "4. It follows a horizontal approach\n",
    "5. It is protocol dependent\n",
    "6. The TCP/IP is the implementation of the OSI Model.\n"
   ]
  },
  {
   "cell_type": "markdown",
   "id": "4c8ed964",
   "metadata": {},
   "source": [
    "1. OSI refers to Open Systems Interconnection.\n",
    "2. OSI has 7 layers.\n",
    "3. OSI is less reliable\n",
    "4. OSI has strict boundaries\n",
    "5. OSI follows a vertical approach.\n",
    "6. OSI uses different session and presentation layers.\n"
   ]
  },
  {
   "cell_type": "markdown",
   "id": "b0d57d65",
   "metadata": {},
   "source": [
    "### Importent Protocols of TCP/IP Model:-"
   ]
  },
  {
   "cell_type": "markdown",
   "id": "da629f35",
   "metadata": {},
   "source": [
    "### Network Access Layer:-"
   ]
  },
  {
   "cell_type": "markdown",
   "id": "887c753c",
   "metadata": {},
   "source": [
    "The Network Access Layer is the lowest layer of the TCP/IP protocol hierarchy. The protocols in this layer provide the means for the system to deliver data to the other devices on a directly attached network. It defines how to use the network to transmit an IP datagram. Unlike higher-level protocols, Network Access Layer protocols must know the details of the underlying network (its packet structure, addressing, etc.) to correctly format the data being transmitted to comply with the network constraints. The TCP/IP Network Access Layer can encompass the functions of all three lower layers of the OSI reference Model (Network, Data Link, and Physical)."
   ]
  },
  {
   "cell_type": "markdown",
   "id": "cbd521dc",
   "metadata": {},
   "source": [
    "Functions performed at this level include encapsulation of IP datagrams into the frames transmitted by the network, and mapping of IP addresses to the physical addresses used by the network. One of TCP/IP’s strengths is its universal addressing scheme. The IP address must be converted into an address that is appropriate for the physical network over which the datagram is transmitted."
   ]
  },
  {
   "cell_type": "markdown",
   "id": "1aaa93eb",
   "metadata": {},
   "source": [
    "### Internet Layer:-"
   ]
  },
  {
   "cell_type": "markdown",
   "id": "23d757bf",
   "metadata": {},
   "source": [
    "The Internet layer, also known as the network layer or IP layer, accepts and delivers packets for the network. This layer includes the powerful Internet Protocol (IP), the Address Resolution Protocol (ARP), and the Internet Control Message Protocol (ICMP)."
   ]
  },
  {
   "cell_type": "markdown",
   "id": "86fbf092",
   "metadata": {},
   "source": [
    "**IP Protocol:-**"
   ]
  },
  {
   "cell_type": "markdown",
   "id": "fde03d30",
   "metadata": {},
   "source": [
    "* The IP protocol and its associated routing protocols are possibly the most significant of the entire TCP/IP suite. IP is responsible for the following:\n",
    "\n",
    "* **IP addressing –** The IP addressing conventions are part of the IP protocol. Designing an IPv4 Addressing Scheme introduces IPv4 addressing and IPv6 Addressing Overview introduces IPv6 addressing.\n",
    "\n",
    "* **Host-to-host communications –** IP determines the path a packet must take, based on the receiving system's IP address.\n",
    "\n",
    "* **Packet formatting –** IP assembles packets into units that are known as datagrams. Datagrams are fully described in Internet Layer: Where Packets Are Prepared for Delivery.\n",
    "\n",
    "* **Fragmentation –** If a packet is too large for transmission over the network media, IP on the sending system breaks the packet into smaller fragments. IP on the receiving system then reconstructs the fragments into the original packet."
   ]
  },
  {
   "cell_type": "markdown",
   "id": "21c72408",
   "metadata": {},
   "source": [
    "**ARP Protocol:-**"
   ]
  },
  {
   "cell_type": "markdown",
   "id": "3a145998",
   "metadata": {},
   "source": [
    "The Address Resolution Protocol (ARP) conceptually exists between the data-link and Internet layers. ARP assists IP in directing datagrams to the appropriate receiving system by mapping Ethernet addresses (48 bits long) to known IP addresses (32 bits long)."
   ]
  },
  {
   "cell_type": "markdown",
   "id": "355cd8f4",
   "metadata": {},
   "source": [
    "**Types of ARP:-**"
   ]
  },
  {
   "cell_type": "markdown",
   "id": "9d9c6c89",
   "metadata": {},
   "source": [
    "**here are four types of Address Resolution Protocol, which is given below:**\n",
    "\n",
    "1. Proxy ARP\n",
    "2. Gratuitous ARP\n",
    "3. Reverse ARP (RARP)\n",
    "4. Inverse ARP"
   ]
  },
  {
   "cell_type": "markdown",
   "id": "35843d2d",
   "metadata": {},
   "source": [
    "**ICMP Protocol:-**"
   ]
  },
  {
   "cell_type": "markdown",
   "id": "54ce0f42",
   "metadata": {},
   "source": [
    "* The Internet Control Message Protocol (ICMP) detects and reports network error conditions. ICMP reports on the following:\n",
    "\n",
    "* **Dropped packets –** Packets that arrive too fast to be processed\n",
    "\n",
    "* **Connectivity failure –** A destination system cannot be reached\n",
    "\n",
    "* **Redirection –** Redirecting a sending system to use another router"
   ]
  },
  {
   "cell_type": "markdown",
   "id": "e90d5a91",
   "metadata": {},
   "source": [
    "**HTTP:-**"
   ]
  },
  {
   "cell_type": "markdown",
   "id": "03e9ad1f",
   "metadata": {},
   "source": [
    "HTTP is a protocol for fetching resources such as HTML documents. It is the foundation of any data exchange on the Web and it is a client-server protocol, which means requests are initiated by the recipient, usually the Web browser. A complete document is reconstructed from the different sub-documents fetched, for instance, text, layout description, images, videos, scripts, and more.\n",
    "\n"
   ]
  },
  {
   "cell_type": "markdown",
   "id": "56f282fa",
   "metadata": {},
   "source": [
    "* It is a protocol used to access the data on the World Wide Web (www).\n",
    "* The HTTP protocol can be used to transfer the data in the form of plain text, hypertext, audio, video, and so on.\n",
    "* This protocol is known as HyperText Transfer Protocol because of its efficiency that allows us to use in a hypertext environment where there are rapid jumps from one document to another document.\n",
    "* HTTP is similar to the FTP as it also transfers the files from one host to another host. But, HTTP is simpler than FTP as HTTP uses only one connection, i.e., no control connection to transfer the files."
   ]
  },
  {
   "cell_type": "markdown",
   "id": "4dd41b05",
   "metadata": {},
   "source": [
    "**HTTPS:-**"
   ]
  },
  {
   "cell_type": "markdown",
   "id": "5111f8e4",
   "metadata": {},
   "source": [
    "* Hypertext transfer protocol secure (HTTPS) is the secure version of HTTP, which is the primary protocol used to send data between a web browser and a website. HTTPS is encrypted in order to increase security of data transfer. This is particularly important when users transmit sensitive data, such as by logging into a bank account, email service, or health insurance provider.\n",
    "\n",
    "* Any website, especially those that require login credentials, should use HTTPS. In modern web browsers such as Chrome, websites that do not use HTTPS are marked differently than those that are. Look for a padlock in the URL bar to signify the webpage is secure. Web browsers take HTTPS seriously; Google Chrome and other browsers flag all non-HTTPS websites as not secure.\n",
    "* HTTPS is an abbreviation of Hypertext Transfer Protocol Secure. It is a secure extension or version of HTTP. This protocol is mainly used for providing security to the data sent between a website and the web browser. It is widely used on the internet and used for secure communications. This protocol uses the 443 port number for communicating the data.\n",
    "\n",
    "* This protocol is also called HTTP over SSL because the HTTPS communication protocols are encrypted using the SSL (Secure Socket Layer).\n"
   ]
  },
  {
   "cell_type": "markdown",
   "id": "00b8a9dc",
   "metadata": {},
   "source": [
    "**SSH:-**"
   ]
  },
  {
   "cell_type": "markdown",
   "id": "10fd46ae",
   "metadata": {},
   "source": [
    "* SSH stands for Secure Shell or Secure Socket Shell. It is a cryptographic network protocol that allows two computers to communicate and share the data over an insecure network such as the internet. It is used to login to a remote server to execute commands and data transfer from one machine to another machine.\n",
    "\n",
    "* The SSH protocol was developed by SSH communication security Ltd to safely communicate with the remote machine.\n",
    "\n",
    "* Secure communication provides a strong password authentication and encrypted communication with a public key over an insecure channel. It is used to replace unprotected remote login protocols such as Telnet, rlogin, rsh, etc., and insecure file transfer protocol FTP."
   ]
  },
  {
   "cell_type": "markdown",
   "id": "bec5cf5a",
   "metadata": {},
   "source": [
    "**Network Time Protocol:-**"
   ]
  },
  {
   "cell_type": "markdown",
   "id": "e84b13e9",
   "metadata": {},
   "source": [
    "Network Time Protocol (NTP) is a protocol that helps the computers clock times to be synchronized in a network. This protocol is an application protocol that is responsible for the synchronization of hosts on a TCP/IP network. NTP was developed by David Mills in 1981 at the University of Delaware. This is required in a communication mechanism so that a seamless connection is present between the computers."
   ]
  },
  {
   "cell_type": "markdown",
   "id": "98f90356",
   "metadata": {},
   "source": [
    "# Answer:-4"
   ]
  },
  {
   "cell_type": "markdown",
   "id": "aac55689",
   "metadata": {},
   "source": [
    "### Frequency:-"
   ]
  },
  {
   "cell_type": "markdown",
   "id": "f2e0aa2d",
   "metadata": {},
   "source": [
    "Frequency describes the number of waves that pass a fixed place in a given amount of time. So if the time it takes for a wave to pass is is 1/2 second, the frequency is 2 per second. If it takes 1/100 of an hour, the frequency is 100 per hour."
   ]
  },
  {
   "cell_type": "markdown",
   "id": "162dffa4",
   "metadata": {},
   "source": [
    "The concept of frequency underlies all modern radio, including wireless networking. A signal's frequency is the number of times it oscillates (completes an up-down cycle) per unit of time. The standard measurement of frequency is the hertz (Hz), the number of cycles per second. There is a huge range of known frequencies, but only a limited number of which are practical for sending radio signals. In radio, one refers to the allowable range of frequencies as the bandwidth. For example, the 2.4 Ghz to 2.5 Ghz spectrum would have a 100 Mhz bandwidth."
   ]
  },
  {
   "cell_type": "markdown",
   "id": "5d283dcb",
   "metadata": {},
   "source": [
    "**Wavelength:-**"
   ]
  },
  {
   "cell_type": "markdown",
   "id": "d0679874",
   "metadata": {},
   "source": [
    "Wavelength is the distance between identical points (adjacent crests) in the adjacent cycles of a waveform signal propagated in space or along a wire. In wireless systems, this length is usually specified in meters (m), centimeters (cm) or millimeters (mm)."
   ]
  },
  {
   "cell_type": "markdown",
   "id": "d624f35e",
   "metadata": {},
   "source": [
    "In the case of infrared (IR), visible light, ultraviolet (UV), and gamma radiation (γ), the wavelength is more often specified in nanometers (nm), which are units of 10-9 m, or angstroms (Å), which are units of 10-10 m.\n",
    "\n",
    "* Wavelength is inversely related to frequency, which refers to the number of wave cycles per second. The higher the frequency of the signal, the shorter the wavelength"
   ]
  },
  {
   "cell_type": "markdown",
   "id": "1abc5d36",
   "metadata": {},
   "source": [
    "**Spectrum:-**"
   ]
  },
  {
   "cell_type": "markdown",
   "id": "16663ca3",
   "metadata": {},
   "source": [
    "Spectrum refers to the invisible radio frequencies that wireless signals travel over. Those signals are what enable us to make calls from our mobile devices, tag our friends on Instagram, call an Uber, pull up directions to a destination, and do everything on our mobile devices."
   ]
  },
  {
   "cell_type": "markdown",
   "id": "70441450",
   "metadata": {},
   "source": [
    "The frequencies we use for wireless are only a portion of what is called the electromagnetic spectrum."
   ]
  },
  {
   "cell_type": "markdown",
   "id": "71e3e4f0",
   "metadata": {},
   "source": [
    "The entire electromagnetic spectrum encompasses other frequencies we interact with daily, even if we don’t think about them. You may remember ROYGBIV from elementary school. That’s the acronym for the colors that make up the visible part of spectrum—the spectrum we see. Other parts of spectrum carry broadcast radio and television or serve other everyday functions."
   ]
  },
  {
   "cell_type": "markdown",
   "id": "5d5c68b1",
   "metadata": {},
   "source": [
    "# Answer:-5"
   ]
  },
  {
   "cell_type": "markdown",
   "id": "4fdf682d",
   "metadata": {},
   "source": [
    "### Bitrate:-"
   ]
  },
  {
   "cell_type": "markdown",
   "id": "0ab348a5",
   "metadata": {},
   "source": [
    " The number of bits per second that can be transmitted along a digital network. Bitrate, as the name implies, describes the rate at which bits are transferred from one location to another. It measures how much data is transmitted in a given amount of time. Bitrate is commonly measured in bits per second (bps), kilobits per second (Kbps), or megabits per second (Mbps)."
   ]
  },
  {
   "cell_type": "markdown",
   "id": "c192ec48",
   "metadata": {},
   "source": [
    "### Bitlength:-"
   ]
  },
  {
   "cell_type": "markdown",
   "id": "f931a506",
   "metadata": {},
   "source": [
    "The term bit-length is technical shorthand for this measure. For example, computer processors are often designed to process data grouped into words of a given length of bits (8 bit, 16 bit, 32 bit, 64 bit, etc.)."
   ]
  },
  {
   "cell_type": "markdown",
   "id": "d3976209",
   "metadata": {},
   "source": [
    "**Bit Length = Propagation speed * Bit duration**"
   ]
  },
  {
   "cell_type": "markdown",
   "id": "5033ca89",
   "metadata": {},
   "source": [
    "The term bit-length is technical shorthand for this measure."
   ]
  },
  {
   "cell_type": "markdown",
   "id": "083d938d",
   "metadata": {},
   "source": [
    "Bit-length or bit width is the number of binary digits, called bits, necessary to represent an integer[1] as a binary number. Formally, the bit-length of a natural number \n",
    "�\n",
    ">\n",
    "0\n",
    "n>0 is a function, bitLength(n), of the binary logarithm of n:"
   ]
  },
  {
   "cell_type": "markdown",
   "id": "a2dcb9a6",
   "metadata": {},
   "source": [
    "# Answer:-6"
   ]
  },
  {
   "cell_type": "markdown",
   "id": "7409fd9c",
   "metadata": {},
   "source": [
    "### Physical Topologies:-"
   ]
  },
  {
   "cell_type": "markdown",
   "id": "1facf887",
   "metadata": {},
   "source": [
    "Network topology is the arrangement of the elements of a communication network. Network topology can be used to define or describe the arrangement of various types of telecommunication networks, including command and control radio networks, industrial fieldbusses and computer networks."
   ]
  },
  {
   "cell_type": "markdown",
   "id": "048eec8b",
   "metadata": {},
   "source": [
    "### Mesh Topology:-"
   ]
  },
  {
   "cell_type": "markdown",
   "id": "d293abf1",
   "metadata": {},
   "source": [
    "In a mesh topology, every device is connected to another device via a particular channel. In Mesh Topology, the protocols used are AHCP (Ad Hoc Configuration Protocols), DHCP (Dynamic Host Configuration Protocol), etc."
   ]
  },
  {
   "cell_type": "markdown",
   "id": "53551ce7",
   "metadata": {},
   "source": [
    "### Advantages of this topology: -"
   ]
  },
  {
   "cell_type": "markdown",
   "id": "2ba9e502",
   "metadata": {},
   "source": [
    "1. Communication is very fast between the nodes.\n",
    "2. It is robust.\n",
    "3. Provides security and privacy."
   ]
  },
  {
   "cell_type": "markdown",
   "id": "d61e3b78",
   "metadata": {},
   "source": [
    "### Problems with this topology:-"
   ]
  },
  {
   "cell_type": "markdown",
   "id": "f9f934c5",
   "metadata": {},
   "source": [
    "1. Installation and configuration are difficult.\n",
    "2. The cost of maintenance is high."
   ]
  },
  {
   "cell_type": "markdown",
   "id": "7a819f93",
   "metadata": {},
   "source": [
    "### Star Topology:-"
   ]
  },
  {
   "cell_type": "markdown",
   "id": "193e9caa",
   "metadata": {},
   "source": [
    "In star topology, all the devices are connected to a single hub through a cable. This hub is the central node and all other nodes are connected to the central node. The hub can be passive in nature i.e., not an intelligent hub such as broadcasting devices, at the same time the hub can be intelligent known as an active hub. Active hubs have repeaters in them. Coaxial cables or RJ-45 cables are used to connect the computers. In Star Topology, many popular Ethernet LAN protocols are used as CD(Collision Detection), CSMA (Carrier Sense Multiple Access), etc."
   ]
  },
  {
   "cell_type": "markdown",
   "id": "d63f205a",
   "metadata": {},
   "source": [
    "### Advantages of this topology:-"
   ]
  },
  {
   "cell_type": "markdown",
   "id": "a59de13a",
   "metadata": {},
   "source": [
    "1. It is Robust. If one link fails only that link will affect and not other than that.\n",
    "2. Easy to fault identification and fault isolation.\n",
    "3. Star topology is cost-effective as it uses inexpensive coaxial cable."
   ]
  },
  {
   "cell_type": "markdown",
   "id": "6a2e1b2c",
   "metadata": {},
   "source": [
    "### Problems with this topology:-"
   ]
  },
  {
   "cell_type": "markdown",
   "id": "070c22db",
   "metadata": {},
   "source": [
    "1. The cost of installation is high.\n",
    "2. Performance is based on the single concentrator i.e. hub."
   ]
  },
  {
   "cell_type": "markdown",
   "id": "4af8a7b3",
   "metadata": {},
   "source": [
    "### Bus Topology:-"
   ]
  },
  {
   "cell_type": "markdown",
   "id": "be7d1de3",
   "metadata": {},
   "source": [
    "Bus topology is a network type in which every computer and network device is connected to a single cable. It is bi-directional. It is a multi-point connection and a non-robust topology because if the backbone fails the topology crashes. In Bus Topology, various MAC (Media Access Control) protocols are followed by LAN ethernet connections like TDMA, Pure Aloha, CDMA, Slotted Aloha, etc."
   ]
  },
  {
   "cell_type": "markdown",
   "id": "db90d3d9",
   "metadata": {},
   "source": [
    "### Advantages of this topology:-"
   ]
  },
  {
   "cell_type": "markdown",
   "id": "e84fd7e5",
   "metadata": {},
   "source": [
    "1. Coaxial or twisted pair cables are mainly used in bus-based networks that support up to 10 Mbps.\n",
    "2. Bus topology is familiar technology as installation and troubleshooting techniques are well known."
   ]
  },
  {
   "cell_type": "markdown",
   "id": "3b63e20c",
   "metadata": {},
   "source": [
    "### Problems with this topology:-"
   ]
  },
  {
   "cell_type": "markdown",
   "id": "47914c0b",
   "metadata": {},
   "source": [
    "1. A bus topology is quite simpler, but still, it requires a lot of cabling.\n",
    "2. If the common cable fails, then the whole system will crash down.\n",
    "3. Security is very low."
   ]
  },
  {
   "cell_type": "markdown",
   "id": "dcae2a04",
   "metadata": {},
   "source": [
    "### Ring Topology:-"
   ]
  },
  {
   "cell_type": "markdown",
   "id": "a74c6baa",
   "metadata": {},
   "source": [
    "* In this topology, it forms a ring connecting devices with exactly two neighboring devices.\n",
    "\n",
    "* A number of repeaters are used for Ring topology with a large number of nodes, because if someone wants to send some data to the last node in the ring topology with 100 nodes, then the data will have to pass through 99 nodes to reach the 100th node. Hence to prevent data loss repeaters are used in the network.\n",
    "\n",
    "* The data flows in one direction, i.e.., it is unidirectional, but it can be made bidirectional by having 2 connections between each Network Node, it is called Dual Ring Topology. In-Ring Topology, the Token Ring Passing protocol is used by the workstations to transmit the data."
   ]
  },
  {
   "cell_type": "markdown",
   "id": "b1b6d80f",
   "metadata": {},
   "source": [
    "**The following operations take place in ring topology are** \n",
    "1. When no station is transmitting the data, then the token will circulate in the ring.\n",
    "2. There are two types of token release techniques: Early token release releases the token just after transmitting the data and Delayed token release releases the token after the acknowledgment is received from the receiver."
   ]
  },
  {
   "cell_type": "markdown",
   "id": "dcf426c8",
   "metadata": {},
   "source": [
    "### Advantages of this topology:-"
   ]
  },
  {
   "cell_type": "markdown",
   "id": "bdbe619c",
   "metadata": {},
   "source": [
    "1. Cheap to install and expand.\n",
    "2. It is less costly than a star topology."
   ]
  },
  {
   "cell_type": "markdown",
   "id": "f9720409",
   "metadata": {},
   "source": [
    "### Problems with this topology:- "
   ]
  },
  {
   "cell_type": "markdown",
   "id": "5cee64d6",
   "metadata": {},
   "source": [
    "1. The failure of a single node in the network can cause the entire network to fail.\n",
    "2. Troubleshooting is difficult in this topology.\n"
   ]
  },
  {
   "cell_type": "markdown",
   "id": "f6242f04",
   "metadata": {},
   "source": [
    "### Tree Topology :-"
   ]
  },
  {
   "cell_type": "markdown",
   "id": "fff1e01b",
   "metadata": {},
   "source": [
    "This topology is the variation of the Star topology. This topology has a hierarchical flow of data. In Tree Topology, protocols like DHCP and SAC (Standard Automatic Configuration ) are used."
   ]
  },
  {
   "cell_type": "markdown",
   "id": "184317a3",
   "metadata": {},
   "source": [
    "### Advantages of this topology :-"
   ]
  },
  {
   "cell_type": "markdown",
   "id": "2c875129",
   "metadata": {},
   "source": [
    "1. It allows more devices to be attached to a single central hub thus it decreases the distance that is traveled by the signal to come to the devices.\n",
    "2. It allows the network to get isolated and also prioritize from different computers.\n",
    "3. Error detection and error correction are very easy in a tree topology."
   ]
  },
  {
   "cell_type": "markdown",
   "id": "d8057d3b",
   "metadata": {},
   "source": [
    "### Problems with this topology :-"
   ]
  },
  {
   "cell_type": "markdown",
   "id": "64f353ea",
   "metadata": {},
   "source": [
    "1. If the central hub gets fails the entire system fails.\n",
    "2. The cost is high because of the cabling.\n",
    "3. If new devices are added, it becomes difficult to reconfigure."
   ]
  },
  {
   "cell_type": "markdown",
   "id": "b5b76942",
   "metadata": {},
   "source": [
    "### Hybrid Topology :-"
   ]
  },
  {
   "cell_type": "markdown",
   "id": "aaf53b47",
   "metadata": {},
   "source": [
    "This topological technology is the combination of all the various types of topologies we have studied above. It is used when the nodes are free to take any form. It means these can be individuals such as Ring or Star topology or can be a combination of various types of topologies seen above. Each individual topology uses the protocol that has been discussed earlier.\n",
    "\n"
   ]
  },
  {
   "cell_type": "markdown",
   "id": "c2222713",
   "metadata": {},
   "source": [
    "### Advantages of this topology :-"
   ]
  },
  {
   "cell_type": "markdown",
   "id": "1ebe7e97",
   "metadata": {},
   "source": [
    "1. This topology is very flexible.\n",
    "2. The size of the network can be easily expanded by adding new devices."
   ]
  },
  {
   "cell_type": "markdown",
   "id": "4ffddfb4",
   "metadata": {},
   "source": [
    "### Problems with this topology :-"
   ]
  },
  {
   "cell_type": "markdown",
   "id": "d1df4417",
   "metadata": {},
   "source": [
    "1. Hubs used in this topology are very expensive.\n",
    "2. The infrastructure cost is very high as a hybrid network requires a lot of cabling and network devices."
   ]
  },
  {
   "cell_type": "code",
   "execution_count": null,
   "id": "8813905d",
   "metadata": {},
   "outputs": [],
   "source": []
  }
 ],
 "metadata": {
  "kernelspec": {
   "display_name": "Python 3 (ipykernel)",
   "language": "python",
   "name": "python3"
  },
  "language_info": {
   "codemirror_mode": {
    "name": "ipython",
    "version": 3
   },
   "file_extension": ".py",
   "mimetype": "text/x-python",
   "name": "python",
   "nbconvert_exporter": "python",
   "pygments_lexer": "ipython3",
   "version": "3.9.13"
  }
 },
 "nbformat": 4,
 "nbformat_minor": 5
}
