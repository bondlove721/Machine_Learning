{
 "cells": [
  {
   "cell_type": "markdown",
   "id": "713ed013",
   "metadata": {},
   "source": [
    "# Answer:1"
   ]
  },
  {
   "cell_type": "markdown",
   "id": "f628852d",
   "metadata": {},
   "source": [
    "### Learning"
   ]
  },
  {
   "cell_type": "markdown",
   "id": "9ba40778",
   "metadata": {},
   "source": [
    "The word learning is used routinely in discussions about teaching in higher education, \n",
    "so it’s important to clarify what we are referring to when we talk about learning. \n",
    "Educational researchers agree that learning is much deeper than memorization and\n",
    "information recall. Deep and long-lasting learning involves understanding, relating \n",
    "ideas and making connections between prior and new knowledge, independent and critical \n",
    "thinking and ability to transfer knowledge to new and different contexts.\n",
    "\n"
   ]
  },
  {
   "cell_type": "markdown",
   "id": "da10fd17",
   "metadata": {},
   "source": [
    "### Machine Learning:-"
   ]
  },
  {
   "cell_type": "markdown",
   "id": "e49bce58",
   "metadata": {},
   "source": [
    "Machine learning is an application of Artificial Intelligence that supports an architecture with the capability to learn and enhance from experience without being definitely programmed automatically."
   ]
  },
  {
   "cell_type": "markdown",
   "id": "6a5bae43",
   "metadata": {},
   "source": [
    "It can be used by search engines including Google and Bing to rank internet pages or to determine which advertisement to display to which user. It can be used by social networks including Facebook and Instagram to make a custom feed for each user or to tag the customer by the images that was uploaded."
   ]
  },
  {
   "cell_type": "markdown",
   "id": "9b73d75d",
   "metadata": {},
   "source": [
    "It can be used by banks to identify whether an online transaction is fraudulent and by e-commerce websites including Amazon and Flipkart to recommend products that it is likely to purchase."
   ]
  },
  {
   "cell_type": "markdown",
   "id": "4bd9eabf",
   "metadata": {},
   "source": [
    "###   Artificial Intelligence (AI):-"
   ]
  },
  {
   "cell_type": "markdown",
   "id": "5a5b270a",
   "metadata": {},
   "source": [
    "In today's world, technology is growing very fast, and we are getting in touch with different new technologies day by day."
   ]
  },
  {
   "cell_type": "markdown",
   "id": "9835c4b7",
   "metadata": {},
   "source": [
    "Here, one of the booming technologies of computer science is Artificial Intelligence which is ready to create a new revolution in the world by making intelligent machines.The Artificial Intelligence is now all around us. It is currently working with a variety of subfields, ranging from general to specific, such as self-driving cars, playing chess, proving theorems, playing music, Painting, etc."
   ]
  },
  {
   "cell_type": "markdown",
   "id": "2b9ab4b8",
   "metadata": {},
   "source": [
    "AI is one of the fascinating and universal fields of Computer science which has a great scope in future. AI holds a tendency to cause a machine to work as a human."
   ]
  },
  {
   "cell_type": "markdown",
   "id": "856aad69",
   "metadata": {},
   "source": [
    "Artificial Intelligence is composed of two words Artificial and Intelligence, where Artificial defines \"man-made,\" and intelligence defines \"thinking power\", hence AI means \"a man-made thinking power.\""
   ]
  },
  {
   "cell_type": "markdown",
   "id": "e47a59b2",
   "metadata": {},
   "source": [
    "### Deep Learning:-"
   ]
  },
  {
   "cell_type": "markdown",
   "id": "302c3827",
   "metadata": {},
   "source": [
    "Deep learning is based on the branch of machine learning, which is a subset of artificial intelligence. Since neural networks imitate the human brain and so deep learning will do. In deep learning, nothing is programmed explicitly. Basically, it is a machine learning class that makes use of numerous nonlinear processing units so as to perform feature extraction as well as transformation. The output from each preceding layer is taken as input by each one of the successive layers."
   ]
  },
  {
   "cell_type": "markdown",
   "id": "32ae127c",
   "metadata": {},
   "source": [
    "Deep learning models are capable enough to focus on the accurate features themselves by requiring a little guidance from the programmer and are very helpful in solving out the problem of dimensionality. Deep learning algorithms are used, especially when we have a huge no of inputs and outputs."
   ]
  },
  {
   "cell_type": "markdown",
   "id": "aa95049b",
   "metadata": {},
   "source": [
    "Since deep learning has been evolved by the machine learning, which itself is a subset of artificial intelligence and as the idea behind the artificial intelligence is to mimic the human behavior, so same is \"the idea of deep learning to build such algorithm that can mimic the brain\"."
   ]
  },
  {
   "cell_type": "markdown",
   "id": "e797a94b",
   "metadata": {},
   "source": [
    " # Answer:-2 "
   ]
  },
  {
   "cell_type": "markdown",
   "id": "67d48808",
   "metadata": {},
   "source": [
    "### Types of Machine Learning:-"
   ]
  },
  {
   "cell_type": "markdown",
   "id": "8a1db606",
   "metadata": {},
   "source": [
    "Machine learning is a subset of AI, which enables the machine to automatically learn from data, improve performance from past experiences, and make predictions. Machine learning contains a set of algorithms that work on a huge amount of data. Data is fed to these algorithms to train them, and on the basis of training, they build the model & perform a specific task."
   ]
  },
  {
   "cell_type": "markdown",
   "id": "15ced051",
   "metadata": {},
   "source": [
    "Based on the methods and way of learning, machine learning is divided into mainly four types, which are:"
   ]
  },
  {
   "cell_type": "markdown",
   "id": "94e0eb70",
   "metadata": {},
   "source": [
    "* 1.Supervised Machine Learning\n",
    "* 2.Unsupervised Machine Learning\n",
    "* 3.Semi-Supervised Machine Learning\n",
    "* 4.Reinforcement Learning"
   ]
  },
  {
   "cell_type": "markdown",
   "id": "958bc86f",
   "metadata": {},
   "source": [
    "In this topic, we will provide a detailed description of the types of Machine Learning along with their respective algorithms:"
   ]
  },
  {
   "cell_type": "markdown",
   "id": "f5c0a8cd",
   "metadata": {},
   "source": [
    "###  1. Supervised Machine Learning:-"
   ]
  },
  {
   "cell_type": "markdown",
   "id": "eac218df",
   "metadata": {},
   "source": [
    "As its name suggests, Supervised machine learning is based on supervision. It means in the supervised learning technique, we train the machines using the \"labelled\" dataset, and based on the training, the machine predicts the output. Here, the labelled data specifies that some of the inputs are already mapped to the output. More preciously, we can say; first, we train the machine with the input and corresponding output, and then we ask the machine to predict the output using the test dataset."
   ]
  },
  {
   "cell_type": "markdown",
   "id": "de1680fd",
   "metadata": {},
   "source": [
    "Let's understand supervised learning with an example. Suppose we have an input dataset of cats and dog images. So, first, we will provide the training to the machine to understand the images, such as the shape & size of the tail of cat and dog, Shape of eyes, colour, height (dogs are taller, cats are smaller), etc. After completion of training, we input the picture of a cat and ask the machine to identify the object and predict the output. Now, the machine is well trained, so it will check all the features of the object, such as height, shape, colour, eyes, ears, tail, etc., and find that it's a cat. So, it will put it in the Cat category. This is the process of how the machine identifies the objects in Supervised Learning."
   ]
  },
  {
   "cell_type": "markdown",
   "id": "264ded76",
   "metadata": {},
   "source": [
    "The main goal of the supervised learning technique is to map the input variable(x) with the output variable(y). Some real-world applications of supervised learning are Risk Assessment, Fraud Detection, Spam filtering, etc."
   ]
  },
  {
   "cell_type": "markdown",
   "id": "26d3c32a",
   "metadata": {},
   "source": [
    "### Categories of Supervised Machine Learning:-"
   ]
  },
  {
   "cell_type": "markdown",
   "id": "5f3a2393",
   "metadata": {},
   "source": [
    "**Supervised machine learning can be classified into two types of problems, which are given below:**"
   ]
  },
  {
   "cell_type": "markdown",
   "id": "49156028",
   "metadata": {},
   "source": [
    "1. Classification\n",
    "2. Regression"
   ]
  },
  {
   "cell_type": "markdown",
   "id": "86c8c600",
   "metadata": {},
   "source": [
    "### Classification"
   ]
  },
  {
   "cell_type": "markdown",
   "id": "c5cf567e",
   "metadata": {},
   "source": [
    "Classification algorithms are used to solve the classification problems in which the output variable is categorical, such as \"Yes\" or No, Male or Female, Red or Blue, etc. The classification algorithms predict the categories present in the dataset. Some real-world examples of classification algorithms are Spam Detection, Email filtering, etc."
   ]
  },
  {
   "cell_type": "markdown",
   "id": "5c4fde36",
   "metadata": {},
   "source": [
    "### Working:"
   ]
  },
  {
   "cell_type": "markdown",
   "id": "866c6caf",
   "metadata": {},
   "source": [
    "* Supervised learning algorithms take labeled inputs and map them to the known outputs, which means you already know the target variable.\n",
    "\n",
    "\n",
    "\n"
   ]
  },
  {
   "cell_type": "markdown",
   "id": "a2bc0997",
   "metadata": {},
   "source": [
    "* Now, let’s focus on the training process for the supervised learning method."
   ]
  },
  {
   "cell_type": "markdown",
   "id": "0ea8a2e8",
   "metadata": {},
   "source": [
    "* Supervised Learning methods need external supervision to train machine learning models. Hence, the name supervised. They need guidance and additional information to return the desired result."
   ]
  },
  {
   "cell_type": "markdown",
   "id": "9b702351",
   "metadata": {},
   "source": [
    "**Some popular classification algorithms are given below:**"
   ]
  },
  {
   "cell_type": "markdown",
   "id": "8fa754d9",
   "metadata": {},
   "source": [
    "\n",
    "1. Linear Regression \n",
    "2. Logistic Regression \n",
    "3. Support Vector Machine\n",
    "4. K Nearest Neighbor \n",
    "5. Decision Tree\n",
    "6. Random Forest\n",
    "7. Naive Bayes"
   ]
  },
  {
   "cell_type": "code",
   "execution_count": null,
   "id": "62a61f49",
   "metadata": {},
   "outputs": [],
   "source": []
  },
  {
   "cell_type": "markdown",
   "id": "a8bd8788",
   "metadata": {},
   "source": [
    "###  Regression"
   ]
  },
  {
   "cell_type": "markdown",
   "id": "51eecd54",
   "metadata": {},
   "source": [
    "Regression algorithms are used to solve regression problems in which there is a linear relationship between input and output variables. These are used to predict continuous output variables, such as market trends, weather prediction, etc."
   ]
  },
  {
   "cell_type": "markdown",
   "id": "6e8ceeef",
   "metadata": {},
   "source": [
    "**Some popular Regression algorithms are given below:**"
   ]
  },
  {
   "cell_type": "markdown",
   "id": "9e7f21a8",
   "metadata": {},
   "source": [
    "1. Multivariate Regression Algorithm\n",
    "2. Decision Tree Algorithm\n",
    "3. Lasso Regression"
   ]
  },
  {
   "cell_type": "markdown",
   "id": "544f5f9f",
   "metadata": {},
   "source": [
    "### Applications of Supervised Learning:-"
   ]
  },
  {
   "cell_type": "markdown",
   "id": "739cddb2",
   "metadata": {},
   "source": [
    "* Speech Recognition\n",
    "* Fraud Detection\n",
    "* Spam detection"
   ]
  },
  {
   "cell_type": "markdown",
   "id": "c4ce8438",
   "metadata": {},
   "source": [
    "###  2. Unsupervised Machine Learning"
   ]
  },
  {
   "cell_type": "markdown",
   "id": "3cb86514",
   "metadata": {},
   "source": [
    "Unsupervised learning is different from the Supervised learning technique; as its name suggests, there is no need for supervision. It means, in unsupervised machine learning, the machine is trained using the unlabeled dataset, and the machine predicts the output without any supervision."
   ]
  },
  {
   "cell_type": "markdown",
   "id": "30329c47",
   "metadata": {},
   "source": [
    "In unsupervised learning, the models are trained with the data that is neither classified nor labelled, and the model acts on that data without any supervision."
   ]
  },
  {
   "cell_type": "markdown",
   "id": "d1583ef3",
   "metadata": {},
   "source": [
    "### Working:"
   ]
  },
  {
   "cell_type": "markdown",
   "id": "986a3760",
   "metadata": {},
   "source": [
    "* Unsupervised learning finds patterns and understands the trends in the data to discover the output. So, the model tries to label the data based on the features of the input data."
   ]
  },
  {
   "cell_type": "markdown",
   "id": "e7898b81",
   "metadata": {},
   "source": [
    "* The training process used in unsupervised learning techniques does not need any supervision to build models. They learn on their own and predict the output. "
   ]
  },
  {
   "cell_type": "markdown",
   "id": "e092bff9",
   "metadata": {},
   "source": [
    "### Categories of Unsupervised Machine Learning"
   ]
  },
  {
   "cell_type": "markdown",
   "id": "0dc0aa34",
   "metadata": {},
   "source": [
    "**Unsupervised Learning can be further classified into two types, which are given below:**"
   ]
  },
  {
   "cell_type": "markdown",
   "id": "78250772",
   "metadata": {},
   "source": [
    "### Clustering"
   ]
  },
  {
   "cell_type": "markdown",
   "id": "1814c3f1",
   "metadata": {},
   "source": [
    "The clustering technique is used when we want to find the inherent groups from the data. It is a way to group the objects into a cluster such that the objects with the most similarities remain in one group and have fewer or no similarities with the objects of other groups. An example of the clustering algorithm is grouping the customers by their purchasing behaviour."
   ]
  },
  {
   "cell_type": "markdown",
   "id": "369ae9f2",
   "metadata": {},
   "source": [
    "Some of the popular clustering algorithms are given below:"
   ]
  },
  {
   "cell_type": "markdown",
   "id": "f4613eee",
   "metadata": {},
   "source": [
    "1. DBSCAN Algorithm\n",
    "2. Principal Component Analysis\n",
    "3. Independent Component Analysis"
   ]
  },
  {
   "cell_type": "markdown",
   "id": "dd9d639c",
   "metadata": {},
   "source": [
    "### Applications of Unsupervised Learning"
   ]
  },
  {
   "cell_type": "markdown",
   "id": "115098b0",
   "metadata": {},
   "source": [
    "* Singular Value Decomposition\n",
    "* Anomaly Detection\n",
    "* Recommendation Systems"
   ]
  },
  {
   "cell_type": "markdown",
   "id": "1789e9d2",
   "metadata": {},
   "source": [
    "### 3. Semi-Supervised Learning:"
   ]
  },
  {
   "cell_type": "markdown",
   "id": "1721bc6b",
   "metadata": {},
   "source": [
    "Semi-Supervised learning is a type of Machine Learning algorithm that lies between Supervised and Unsupervised machine learning. It represents the intermediate ground between Supervised (With Labelled training data) and Unsupervised learning (with no labelled training data) algorithms and uses the combination of labelled and unlabeled datasets during the training period."
   ]
  },
  {
   "cell_type": "markdown",
   "id": "cc27938e",
   "metadata": {},
   "source": [
    "### 4.Reinforcement Learning:"
   ]
  },
  {
   "cell_type": "markdown",
   "id": "d180e139",
   "metadata": {},
   "source": [
    "Reinforcement Learning trains a machine to take suitable actions and maximize its rewards in a particular situation. It uses an agent and an environment to produce actions and rewards. The agent has a start and an end state. But, there might be different paths for reaching the end state, like a maze. In this learning technique, there is no predefined target variable. "
   ]
  },
  {
   "cell_type": "markdown",
   "id": "efccd79d",
   "metadata": {},
   "source": [
    "### Algorithms"
   ]
  },
  {
   "cell_type": "markdown",
   "id": "0357bdec",
   "metadata": {},
   "source": [
    "**Some of the important reinforcement learning algorithms are:**"
   ]
  },
  {
   "cell_type": "markdown",
   "id": "b27efaa5",
   "metadata": {},
   "source": [
    "1. Q-learning \n",
    "2. Sarsa \n",
    "3. Monte Carlo \n",
    "4. Deep Q network"
   ]
  },
  {
   "cell_type": "markdown",
   "id": "46db7c1d",
   "metadata": {},
   "source": [
    "### Working:"
   ]
  },
  {
   "cell_type": "markdown",
   "id": "3fdbc44a",
   "metadata": {},
   "source": [
    "Reinforcement learning follows trial and error methods to get the desired result. After accomplishing a task, the agent receives an award. An example could be to train a dog to catch the ball. If the dog learns to catch a ball, you give it a reward, such as a biscuit."
   ]
  },
  {
   "cell_type": "markdown",
   "id": "c8befe7e",
   "metadata": {},
   "source": [
    "Reinforcement Learning methods do not need any external supervision to train models."
   ]
  },
  {
   "cell_type": "markdown",
   "id": "fa7a90da",
   "metadata": {},
   "source": [
    "Reinforcement learning problems are reward-based. For every task or for every step completed, there will be a reward received by the agent. If the task is not achieved correctly, there will be some penalty added. "
   ]
  },
  {
   "cell_type": "markdown",
   "id": "a8b06037",
   "metadata": {},
   "source": [
    "### Applications"
   ]
  },
  {
   "cell_type": "markdown",
   "id": "6127ab58",
   "metadata": {},
   "source": [
    "Reinforcement learning algorithms are widely used in the gaming industries to build games. It is also used to train robots to do human tasks."
   ]
  },
  {
   "cell_type": "markdown",
   "id": "bf5c275c",
   "metadata": {},
   "source": [
    "# answer:-6"
   ]
  },
  {
   "cell_type": "markdown",
   "id": "65a82599",
   "metadata": {},
   "source": [
    "### Different Types of Distance Metrics used in Machine Learning"
   ]
  },
  {
   "cell_type": "markdown",
   "id": "376bc4fb",
   "metadata": {},
   "source": [
    "Many Supervised and Unsupervised machine learning models such as K-NN and K-Means depend upon the distance between two data points to predict the output. Therefore, the metric we use to compute distances plays an important role in these models."
   ]
  },
  {
   "cell_type": "markdown",
   "id": "71922696",
   "metadata": {},
   "source": [
    "In this blog post, we are going to learn about some distance metrics used in machine learning models. They are:-"
   ]
  },
  {
   "cell_type": "markdown",
   "id": "2be7e646",
   "metadata": {},
   "source": [
    "1. Minkowski distance\n",
    "2. Manhattan distance\n",
    "3. Euclidean distance\n",
    "4. Hamming distance\n"
   ]
  },
  {
   "cell_type": "markdown",
   "id": "094eb48d",
   "metadata": {},
   "source": [
    "### 1. Minkowski Distance"
   ]
  },
  {
   "cell_type": "markdown",
   "id": "9f206f0b",
   "metadata": {},
   "source": [
    "According to Wikipedia, “A Normed vector space is a vector space on which a norm is defined.” Suppose A is a vector space then a norm on A is a real-valued function ||A||which satisfies below conditions -"
   ]
  },
  {
   "cell_type": "markdown",
   "id": "8dbca522",
   "metadata": {},
   "source": [
    "**Zero Vector-** Zero vector will have zero length."
   ]
  },
  {
   "cell_type": "markdown",
   "id": "53132e76",
   "metadata": {},
   "source": [
    "**Scalar Factor-** The direction of the vector doesn’t change when you multiply it with a positive number though its length will be changed."
   ]
  },
  {
   "cell_type": "markdown",
   "id": "e828d68f",
   "metadata": {},
   "source": [
    "**Triangle Inequality-** If the distance is a norm then the calculated distance between two points will always be a straight line."
   ]
  },
  {
   "cell_type": "markdown",
   "id": "7ab0e8d2",
   "metadata": {},
   "source": [
    "The distance can be calculated using the below formula:-\n",
    "\n",
    "\n",
    "Minkowski distance is a generalized distance metric. We can manipulate the above formula by substituting ‘p’ to calculate the distance between two data points in different ways. Thus, Minkowski Distance is also known as Lp norm distance."
   ]
  },
  {
   "cell_type": "markdown",
   "id": "53aeeef1",
   "metadata": {},
   "source": [
    "### 2. Euclidean Distance:-"
   ]
  },
  {
   "cell_type": "markdown",
   "id": "464e34da",
   "metadata": {},
   "source": [
    "* Euclidean distance calculates the distance between two real-valued vectors.\n",
    "\n",
    "* You are most likely to use Euclidean distance when calculating the distance between two rows of data that have numerical values, such a floating point or integer values.\n",
    "\n",
    "* If columns have values with differing scales, it is common to normalize or standardize the numerical values across all columns prior to calculating the Euclidean distance. Otherwise, columns that have large values will dominate the distance measure."
   ]
  },
  {
   "cell_type": "markdown",
   "id": "b48f8e74",
   "metadata": {},
   "source": [
    "Euclidean distance is calculated as the square root of the sum of the squared differences between the two vectors.\n",
    "\n",
    "EuclideanDistance = sqrt(sum for i to N (v1[i] – v2[i])^2)"
   ]
  },
  {
   "cell_type": "markdown",
   "id": "5be2d13f",
   "metadata": {},
   "source": [
    "### 3. Manhattan Distance:-"
   ]
  },
  {
   "cell_type": "markdown",
   "id": "57acf7b4",
   "metadata": {},
   "source": [
    "* The Manhattan distance, also called the Taxicab distance or the City Block distance, calculates the distance between two real-valued vectors.\n",
    "\n",
    "* It is perhaps more useful to vectors that describe objects on a uniform grid, like a chessboard or city blocks. The taxicab name for the measure refers to the intuition for what the measure calculates: the shortest path that a taxicab would take between city blocks (coordinates on the grid).\n",
    "\n",
    "* It might make sense to calculate Manhattan distance instead of Euclidean distance for two vectors in an integer feature space.\n",
    "\n",
    "* Manhattan distance is calculated as the sum of the absolute differences between the two vectors.\n",
    "\n",
    "* ManhattanDistance = sum for i to N sum |v1[i] – v2[i]|"
   ]
  },
  {
   "cell_type": "markdown",
   "id": "ec4f52ce",
   "metadata": {},
   "source": [
    "### 4.Hamming distance:-"
   ]
  },
  {
   "cell_type": "markdown",
   "id": "832dfc8a",
   "metadata": {},
   "source": [
    "\n",
    "* Hamming distance calculates the distance between two binary vectors, also referred to as binary strings or bitstrings for short.\n",
    "\n",
    "* You are most likely going to encounter bitstrings when you one-hot encode categorical columns of data.\n",
    "\n",
    "* For example, if a column had the categories ‘red,’ ‘green,’ and ‘blue,’ you might one hot encode each example as a bitstring with one bit for each column."
   ]
  },
  {
   "cell_type": "markdown",
   "id": "a7d37298",
   "metadata": {},
   "source": [
    "* The distance between red and green could be calculated as the sum or the average number of bit differences between the two bitstrings. This is the Hamming distance.\n",
    "\n",
    "* For a one-hot encoded string, it might make more sense to summarize to the sum of the bit differences between the strings, which will always be a 0 or 1.\n",
    "\n"
   ]
  },
  {
   "cell_type": "markdown",
   "id": "ad9b07c0",
   "metadata": {},
   "source": [
    "HammingDistance = sum for i to N abs(v1[i] – v2[i])\n",
    "*For bitstrings that may have many 1 bits, it is more common to calculate the average number of bit differences to give a hamming distance score between 0 (identical) and 1 (all different).\n",
    "\n",
    "HammingDistance = (sum for i to N abs(v1[i] – v2[i])) / N"
   ]
  },
  {
   "cell_type": "markdown",
   "id": "a19ff6a0",
   "metadata": {},
   "source": [
    "# Answer:-5"
   ]
  },
  {
   "cell_type": "markdown",
   "id": "ceff8894",
   "metadata": {},
   "source": [
    "### cross Validation:-"
   ]
  },
  {
   "cell_type": "markdown",
   "id": "c5862367",
   "metadata": {},
   "source": [
    "* Cross-validation is a statistical method used to estimate the performance (or accuracy) of machine learning models. It is used to protect against overfitting in a predictive model, particularly in a case where the amount of data may be limited. In cross-validation, you make a fixed number of folds (or partitions) of the data, run the analysis on each fold, and then average the overall error estimate.\n",
    "\n",
    "* When dealing with a Machine Learning task, you have to properly identify the problem so that you can pick the most suitable algorithm which can give you the best score. But how do we compare the models?\n",
    "\n",
    "* Say, you have trained the model with the dataset available and now you want to know how well the model can perform. One approach can be that you are going to test the model on the dataset you have trained it on, but this may not be a good practice.\n",
    "\n",
    "* So what is wrong with testing the model on the training dataset? If we do so, we assume that the training data represents all the possible scenarios of real-world and this will surely never be the case. Our main objective is that the model should be able to work well on the real-world data, although the training dataset is also real-world data, it represents a small set of all the possible data points(examples) out there."
   ]
  },
  {
   "cell_type": "markdown",
   "id": "bbec3aa5",
   "metadata": {},
   "source": [
    "### Types of Cross Validation:-"
   ]
  },
  {
   "cell_type": "markdown",
   "id": "08c863e4",
   "metadata": {},
   "source": [
    "There are different types of cross validation methods, and they could be classified into two broad categories – Non-exhaustive and Exhaustive Methods. We’re going to look at a few examples from both the categories."
   ]
  },
  {
   "cell_type": "markdown",
   "id": "585d4dc1",
   "metadata": {},
   "source": [
    "### Non-exhaustive Methods:-"
   ]
  },
  {
   "cell_type": "markdown",
   "id": "7002ba78",
   "metadata": {},
   "source": [
    "Non-exhaustive cross validation methods, as the name suggests do not compute all ways of splitting the original data. Let us go through the methods to get a clearer understanding."
   ]
  },
  {
   "cell_type": "markdown",
   "id": "ee837cfc",
   "metadata": {},
   "source": [
    "### 1. Holdout method:-"
   ]
  },
  {
   "cell_type": "markdown",
   "id": "b6d58467",
   "metadata": {},
   "source": [
    "* This is a quite basic and simple approach in which we divide our entire dataset into two parts viz- training data and testing data. As the name, we train the model on training data and then evaluate on the testing set. Usually, the size of training data is set more than twice that of testing data, so the data is split in the ratio of 70:30 or 80:20.\n",
    "\n",
    "* In this approach, the data is first shuffled randomly before splitting. As the model is trained on a different combination of data points, the model can give different results every time we train it, and this can be a cause of instability. Also, we can never assure that the train set we picked is representative of the whole dataset.\n",
    "\n",
    "* Also when our dataset is not too large, there is a high possibility that the testing data may contain some important information that we lose as we do not train the model on the testing set.\n",
    "\n",
    "* The hold-out method is good to use when you have a very large dataset, you’re on a time crunch, or you are starting to build an initial model in your data science project."
   ]
  },
  {
   "cell_type": "markdown",
   "id": "af2128ea",
   "metadata": {},
   "source": [
    "### 2. K fold cross validation:-"
   ]
  },
  {
   "cell_type": "markdown",
   "id": "d7e5bc0c",
   "metadata": {},
   "source": [
    "K-fold cross validation is one way to improve the holdout method. This method guarantees that the score of our model does not depend on the way we picked the train and test set. The data set is divided into k number of subsets and the holdout method is repeated k number of times. Let us go through this in steps:"
   ]
  },
  {
   "cell_type": "markdown",
   "id": "de8144da",
   "metadata": {},
   "source": [
    "1. Randomly split your entire dataset into k number of folds (subsets)\n",
    "2. For each fold in your dataset, build your model on k – 1 folds of the dataset. Then, test the model to check the effectiveness for kth fold\n",
    "3. Repeat this until each of the k-folds has served as the test set\n",
    "4. The average of your k recorded accuracy is called the cross-validation accuracy and will serve as your performance metric for the model."
   ]
  },
  {
   "cell_type": "markdown",
   "id": "b2fda9a2",
   "metadata": {},
   "source": [
    "* Because it ensures that every observation from the original dataset has the chance of appearing in training and test set, this method generally results in a less biased model compare to other methods. It is one of the best approaches if we have limited input data. \n",
    "\n",
    "* The disadvantage of this method is that the training algorithm has to be rerun from scratch k times, which means it takes k times as much computation to make an evaluation."
   ]
  },
  {
   "cell_type": "markdown",
   "id": "ecd752bd",
   "metadata": {},
   "source": [
    "### 3.Stratified K Fold Cross Validation:-"
   ]
  },
  {
   "cell_type": "markdown",
   "id": "0403ee71",
   "metadata": {},
   "source": [
    "* Using K Fold on a classification problem can be tricky. Since we are randomly shuffling the data and then dividing it into folds, chances are we may get highly imbalanced folds which may cause our training to be biased. For example, let us somehow get a fold that has majority belonging to one class(say positive) and only a few as negative class. This will certainly ruin our training and to avoid this we make stratified folds using stratification.\n",
    "\n",
    "* Stratification is the process of rearranging the data so as to ensure that each fold is a good representative of the whole. For example, in a binary classification problem where each class comprises of 50% of the data, it is best to arrange the data such that in every fold, each class comprises of about half the instances."
   ]
  },
  {
   "cell_type": "markdown",
   "id": "4ca251af",
   "metadata": {},
   "source": [
    "### 4.Exhaustive Methods:-"
   ]
  },
  {
   "cell_type": "markdown",
   "id": "5b5fc5f5",
   "metadata": {},
   "source": [
    "Exhaustive cross validation methods and test on all possible ways to divide the original sample into a training and a validation set."
   ]
  },
  {
   "cell_type": "markdown",
   "id": "e757db2c",
   "metadata": {},
   "source": [
    "### 5.Leave-P-Out cross validation:-"
   ]
  },
  {
   "cell_type": "markdown",
   "id": "c9bc169b",
   "metadata": {},
   "source": [
    "* When using this exhaustive method, we take p number of points out from the total number of data points in the dataset(say n). While training the model we train it on these (n – p) data points and test the model on p data points. We repeat this process for all the possible combinations of p from the original dataset. Then to get the final accuracy, we average the accuracies from all these iterations.\n",
    "\n",
    "* This is an exhaustive method as we train the model on every possible combination of data points. Remember if we choose a higher value for p, then the number of combinations will be more and we can say the method gets a lot more exhaustive."
   ]
  },
  {
   "cell_type": "markdown",
   "id": "2ca37ff2",
   "metadata": {},
   "source": [
    "### 6.Leave-one-out cross validation:-"
   ]
  },
  {
   "cell_type": "markdown",
   "id": "5a8c5389",
   "metadata": {},
   "source": [
    "This is a simple variation of Leave-P-Out cross validation and the value of p is set as one. This makes the method much less exhaustive as now for n data points and p = 1, we have n number of combinations."
   ]
  },
  {
   "cell_type": "markdown",
   "id": "7f355b83",
   "metadata": {},
   "source": [
    "### 7.Rolling Cross Validation:-"
   ]
  },
  {
   "cell_type": "markdown",
   "id": "dcbce1ee",
   "metadata": {},
   "source": [
    "For time-series data the above-mentioned methods are not the best ways to evaluate the models. Here are two reasons as to why this is not an ideal way to go:"
   ]
  },
  {
   "cell_type": "markdown",
   "id": "43f78e27",
   "metadata": {},
   "source": [
    "1. Shuffling the data messes up the time section of the data as it will disrupt the order of events\n",
    "2. Using cross-validation, there is a chance that we train the model on future data and test on past data which will break the golden rule in time series i.e. “peaking in the future is not allowed”."
   ]
  },
  {
   "cell_type": "markdown",
   "id": "8d1392c1",
   "metadata": {},
   "source": [
    "Keeping these points in mind we perform cross validation in this manner"
   ]
  },
  {
   "cell_type": "markdown",
   "id": "d9831a51",
   "metadata": {},
   "source": [
    "1. We create the fold (or subsets) in a forward-chaining fashion.\n",
    "2. Suppose we have a time series for stock prices for a period of n years and we divide the data yearly into n number of folds. The folds would be created like:"
   ]
  },
  {
   "cell_type": "markdown",
   "id": "c3122b42",
   "metadata": {},
   "source": [
    "# Answewr:-4"
   ]
  },
  {
   "cell_type": "markdown",
   "id": "dfbeb2f6",
   "metadata": {},
   "source": [
    "### K-Nearest Neighbor(KNN):-"
   ]
  },
  {
   "cell_type": "markdown",
   "id": "1cf88783",
   "metadata": {},
   "source": [
    "K-nearest neighbors (KNN) algorithm is a type of supervised ML algorithm which can be used for both classification as well as regression predictive problems. However, it is mainly used for classification predictive problems in industry. The following two properties would define KNN well −"
   ]
  },
  {
   "cell_type": "markdown",
   "id": "1975de95",
   "metadata": {},
   "source": [
    "1. **Lazy learning algorithm −** KNN is a lazy learning algorithm because it does not have a specialized training phase and uses all the data for training while classification.\n",
    "\n",
    "2. **Non-parametric learning algorithm −** KNN is also a non-parametric learning algorithm because it doesn’t assume anything about the underlying data."
   ]
  },
  {
   "cell_type": "markdown",
   "id": "c71c94a3",
   "metadata": {},
   "source": [
    "### Working of KNN Algorithm:-"
   ]
  },
  {
   "cell_type": "markdown",
   "id": "ae537df1",
   "metadata": {},
   "source": [
    "K-nearest neighbors (KNN) algorithm uses ‘feature similarity’ to predict the values of new datapoints which further means that the new data point will be assigned a value based on how closely it matches the points in the training set. We can understand its working with the help of following steps −"
   ]
  },
  {
   "cell_type": "markdown",
   "id": "831d9307",
   "metadata": {},
   "source": [
    "**Step 1 −** For implementing any algorithm, we need dataset. So during the first step of KNN, we must load the training as well as test data.\n",
    "\n",
    "**Step 2 −** Next, we need to choose the value of K i.e. the nearest data points. K can be any integer.\n",
    "\n",
    "**Step 3 −** For each point in the test data do the following −"
   ]
  },
  {
   "cell_type": "markdown",
   "id": "00041804",
   "metadata": {},
   "source": [
    "**3.1 −** Calculate the distance between test data and each row of training data with the help of any of the method namely: Euclidean, Manhattan or Hamming distance. The most commonly used method to calculate distance is Euclidean.\n",
    "\n",
    "**3.2 −** Now, based on the distance value, sort them in ascending order.\n",
    "\n",
    "**3.3 −** Next, it will choose the top K rows from the sorted array.\n",
    "\n",
    "**3.4 −** Now, it will assign a class to the test point based on most frequent class of these rows."
   ]
  },
  {
   "cell_type": "markdown",
   "id": "ec0f88e3",
   "metadata": {},
   "source": [
    "**Step 4 −** End"
   ]
  },
  {
   "cell_type": "markdown",
   "id": "ba8d884b",
   "metadata": {},
   "source": [
    "### Advantages of KNN:-"
   ]
  },
  {
   "cell_type": "markdown",
   "id": "686bc21b",
   "metadata": {},
   "source": [
    "1. It is very simple algorithm to understand and interpret.\n",
    "\n",
    "2. It is very useful for nonlinear data because there is no assumption about data in this algorithm.\n",
    "\n",
    "3. It is a versatile algorithm as we can use it for classification as well as regression.\n",
    "\n",
    "4. It has relatively high accuracy but there are much better supervised learning models than KNN"
   ]
  },
  {
   "cell_type": "markdown",
   "id": "03fd77d8",
   "metadata": {},
   "source": [
    "### Disadvantage of KNN:-"
   ]
  },
  {
   "cell_type": "markdown",
   "id": "8f7c6bdc",
   "metadata": {},
   "source": [
    "1. It is computationally a bit expensive algorithm because it stores all the training data.\n",
    "\n",
    "2. High memory storage required as compared to other supervised learning algorithms.\n",
    "\n",
    "3. Prediction is slow in case of big N.\n",
    "\n",
    "4. It is very sensitive to the scale of data as well as irrelevant features."
   ]
  },
  {
   "cell_type": "code",
   "execution_count": null,
   "id": "03250620",
   "metadata": {},
   "outputs": [],
   "source": []
  }
 ],
 "metadata": {
  "kernelspec": {
   "display_name": "Python 3 (ipykernel)",
   "language": "python",
   "name": "python3"
  },
  "language_info": {
   "codemirror_mode": {
    "name": "ipython",
    "version": 3
   },
   "file_extension": ".py",
   "mimetype": "text/x-python",
   "name": "python",
   "nbconvert_exporter": "python",
   "pygments_lexer": "ipython3",
   "version": "3.9.13"
  }
 },
 "nbformat": 4,
 "nbformat_minor": 5
}
